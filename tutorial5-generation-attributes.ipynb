{
 "cells": [
  {
   "cell_type": "markdown",
   "id": "e905031a-a543-49ad-9c18-cef88afd62c2",
   "metadata": {},
   "source": [
    "# ULTImodel tutorial 5: Finalize attributes for trip generation and distribution\n",
    "\n",
    "In this tutorial, the attraction factors per TAZ that influence trip generation and distribution will be determined using the `AttractionFactors` methods."
   ]
  },
  {
   "cell_type": "markdown",
   "id": "aa71a56a-0877-4df7-97b6-9369e37892bf",
   "metadata": {},
   "source": [
    "The inputs are:\n",
    "- TAZ as GeoDataFrame\n",
    "- Population density as point GeoDataFrame"
   ]
  },
  {
   "cell_type": "code",
   "execution_count": 1,
   "id": "5416986f-370f-49ac-aab3-c472deafa2a8",
   "metadata": {},
   "outputs": [],
   "source": [
    "# for network creation\n",
    "from ultimodel import AttractionFactors"
   ]
  },
  {
   "cell_type": "code",
   "execution_count": 2,
   "id": "3cc5c6b2-01e5-4700-bedc-65c82c1a872e",
   "metadata": {},
   "outputs": [],
   "source": [
    "# for reading and saving files etc.\n",
    "import geopandas as gpd\n",
    "import pandas as pd\n",
    "import numpy as np\n",
    "# for time tracking\n",
    "from datetime import datetime"
   ]
  },
  {
   "cell_type": "markdown",
   "id": "3118231b-a6a3-4fd7-8520-b4cbb6308b1a",
   "metadata": {
    "tags": []
   },
   "source": [
    "## Read input: TAZ and population\n",
    "\n",
    "The input includes georeferenced TAZ in `EPSG:4326` with the following _required_ attributes (columns):\n",
    "\n",
    "* __ID__ | field including a unique ID, e.g. the NUTS ID\n",
    "* __Country__ | field containing the ISO-2 code of the respective country\n",
    "\n",
    "Other attributes like name etc. can be added, but are not required for the following steps.\n",
    "\n",
    "To determine population per TAZ, a GeoDataFrame containing points with population on a 1km grid is used, based on [GHSL](https://ghsl.jrc.ec.europa.eu/download.php?ds=pop). "
   ]
  },
  {
   "cell_type": "code",
   "execution_count": 3,
   "id": "f1f7801d-f328-429c-a75c-4a8fc89e4337",
   "metadata": {},
   "outputs": [
    {
     "data": {
      "text/html": [
       "<div>\n",
       "<style scoped>\n",
       "    .dataframe tbody tr th:only-of-type {\n",
       "        vertical-align: middle;\n",
       "    }\n",
       "\n",
       "    .dataframe tbody tr th {\n",
       "        vertical-align: top;\n",
       "    }\n",
       "\n",
       "    .dataframe thead th {\n",
       "        text-align: right;\n",
       "    }\n",
       "</style>\n",
       "<table border=\"1\" class=\"dataframe\">\n",
       "  <thead>\n",
       "    <tr style=\"text-align: right;\">\n",
       "      <th></th>\n",
       "      <th>nuts_id</th>\n",
       "      <th>cntr_code</th>\n",
       "      <th>nuts_name</th>\n",
       "      <th>geometry</th>\n",
       "    </tr>\n",
       "  </thead>\n",
       "  <tbody>\n",
       "    <tr>\n",
       "      <th>0</th>\n",
       "      <td>FI193</td>\n",
       "      <td>FI</td>\n",
       "      <td>Keski-Suomi</td>\n",
       "      <td>MULTIPOLYGON (((26.13865 63.45759, 26.16055 63...</td>\n",
       "    </tr>\n",
       "    <tr>\n",
       "      <th>1</th>\n",
       "      <td>FI194</td>\n",
       "      <td>FI</td>\n",
       "      <td>Etelä-Pohjanmaa</td>\n",
       "      <td>MULTIPOLYGON (((21.64783 62.01959, 21.63880 62...</td>\n",
       "    </tr>\n",
       "    <tr>\n",
       "      <th>2</th>\n",
       "      <td>FI195</td>\n",
       "      <td>FI</td>\n",
       "      <td>Pohjanmaa</td>\n",
       "      <td>MULTIPOLYGON (((21.64783 62.01959, 21.52578 62...</td>\n",
       "    </tr>\n",
       "    <tr>\n",
       "      <th>3</th>\n",
       "      <td>FI196</td>\n",
       "      <td>FI</td>\n",
       "      <td>Satakunta</td>\n",
       "      <td>MULTIPOLYGON (((21.41993 61.04744, 21.42015 61...</td>\n",
       "    </tr>\n",
       "    <tr>\n",
       "      <th>4</th>\n",
       "      <td>FI197</td>\n",
       "      <td>FI</td>\n",
       "      <td>Pirkanmaa</td>\n",
       "      <td>MULTIPOLYGON (((22.83124 62.27089, 22.90118 62...</td>\n",
       "    </tr>\n",
       "  </tbody>\n",
       "</table>\n",
       "</div>"
      ],
      "text/plain": [
       "  nuts_id cntr_code        nuts_name   \n",
       "0   FI193        FI      Keski-Suomi  \\\n",
       "1   FI194        FI  Etelä-Pohjanmaa   \n",
       "2   FI195        FI        Pohjanmaa   \n",
       "3   FI196        FI        Satakunta   \n",
       "4   FI197        FI        Pirkanmaa   \n",
       "\n",
       "                                            geometry  \n",
       "0  MULTIPOLYGON (((26.13865 63.45759, 26.16055 63...  \n",
       "1  MULTIPOLYGON (((21.64783 62.01959, 21.63880 62...  \n",
       "2  MULTIPOLYGON (((21.64783 62.01959, 21.52578 62...  \n",
       "3  MULTIPOLYGON (((21.41993 61.04744, 21.42015 61...  \n",
       "4  MULTIPOLYGON (((22.83124 62.27089, 22.90118 62...  "
      ]
     },
     "execution_count": 3,
     "metadata": {},
     "output_type": "execute_result"
    }
   ],
   "source": [
    "# load taz from database or local\n",
    "taz = gpd.GeoDataFrame.from_file('tutorial-files/_input/taz-tutorial.gpkg')\n",
    "\n",
    "# defining ID, country and geometry column names of taz\n",
    "taz_id = \"nuts_id\"\n",
    "taz_cn = \"cntr_code\"\n",
    "taz_geo = \"geometry\"\n",
    "\n",
    "taz.head()"
   ]
  },
  {
   "cell_type": "code",
   "execution_count": 4,
   "id": "9fe3bdf4-11b3-463f-9d08-2f9c6b5d2216",
   "metadata": {},
   "outputs": [],
   "source": [
    "# read population\n",
    "pop = gpd.GeoDataFrame.from_file('tutorial-files/_input/4326-points-population-dk.gpkg')"
   ]
  },
  {
   "cell_type": "markdown",
   "id": "a74bc985-7a91-4f77-93ac-7f7c820bc496",
   "metadata": {},
   "source": [
    "## Attraction factors on cell level\n",
    "\n",
    "For the attraction factors on cell level, which will be used for trip generation and distribution, __population__ and __industry__ data is aggregated per TAZ. This information will then be transformed to an attraction index for\n",
    "\n",
    "- national distribution\n",
    "- international distribution"
   ]
  },
  {
   "cell_type": "code",
   "execution_count": 5,
   "id": "8555c962-e376-4a45-9a7a-113718296dc4",
   "metadata": {},
   "outputs": [],
   "source": [
    "path_export = 'tutorial-files/tutorial5/'"
   ]
  },
  {
   "cell_type": "code",
   "execution_count": 6,
   "id": "776e857a-5c22-4241-bce3-b05999506849",
   "metadata": {},
   "outputs": [],
   "source": [
    "att = AttractionFactors.AttractionIndex(taz[taz[taz_cn]=='DK'])"
   ]
  },
  {
   "cell_type": "markdown",
   "id": "bdecd0e4-979f-4e9e-a686-26743c95c9e2",
   "metadata": {},
   "source": [
    "### Population\n",
    "\n",
    "Get population per TAZ based on population density from a `Point GeoDataFrame`"
   ]
  },
  {
   "cell_type": "code",
   "execution_count": 7,
   "id": "62209269-9a31-4a4f-80fa-972a3116fa47",
   "metadata": {},
   "outputs": [
    {
     "name": "stdout",
     "output_type": "stream",
     "text": [
      "... get population 2023-04-13 16:56:54.669761\n",
      "finished at 2023-04-13 16:56:56.268585\n"
     ]
    }
   ],
   "source": [
    "# population\n",
    "print(\"... get population {}\".format(datetime.now()))\n",
    "att.population_from_point(pop)\n",
    "print(\"finished at {}\".format(datetime.now()))"
   ]
  },
  {
   "cell_type": "markdown",
   "id": "19afb7a7-f366-4eb4-846c-7a07a9cc3fb8",
   "metadata": {
    "tags": []
   },
   "source": [
    "### Industry\n",
    "\n",
    "Get industry areas from OSM and aggreate total industrial area, number of industrial areas per TAZ"
   ]
  },
  {
   "cell_type": "code",
   "execution_count": 8,
   "id": "8e8d1124-85b8-4098-9cba-729eb62b05d1",
   "metadata": {},
   "outputs": [
    {
     "name": "stdout",
     "output_type": "stream",
     "text": [
      "... get industrial sites from OSM 2023-04-13 16:56:56.278315\n"
     ]
    },
    {
     "name": "stderr",
     "output_type": "stream",
     "text": [
      "11it [00:13,  1.23s/it]"
     ]
    },
    {
     "name": "stdout",
     "output_type": "stream",
     "text": [
      "finished at 2023-04-13 16:57:09.799890\n"
     ]
    },
    {
     "name": "stderr",
     "output_type": "stream",
     "text": [
      "\n"
     ]
    }
   ],
   "source": [
    "# industry\n",
    "print(\"... get industrial sites from OSM {}\".format(datetime.now()))\n",
    "att.industry_attributes_from_osm()\n",
    "print(\"finished at {}\".format(datetime.now()))"
   ]
  },
  {
   "cell_type": "markdown",
   "id": "35285b94-f75f-4672-b067-fbefc32b12f7",
   "metadata": {
    "tags": []
   },
   "source": [
    "### Calculate attraction index\n",
    "\n",
    "The attraction index is calculated per TAZ using the values for population, industrial site count and aggregated area in relation to the mean. This means, the index for national transport is different to the international index. Hence, we set the scope in the `att.attraction_index()` function for the national index and leave is as `None` for the international index."
   ]
  },
  {
   "cell_type": "code",
   "execution_count": 9,
   "id": "023b3215-5972-4b19-bdaf-dcb7461e9085",
   "metadata": {},
   "outputs": [
    {
     "data": {
      "text/html": [
       "<div>\n",
       "<style scoped>\n",
       "    .dataframe tbody tr th:only-of-type {\n",
       "        vertical-align: middle;\n",
       "    }\n",
       "\n",
       "    .dataframe tbody tr th {\n",
       "        vertical-align: top;\n",
       "    }\n",
       "\n",
       "    .dataframe thead th {\n",
       "        text-align: right;\n",
       "    }\n",
       "</style>\n",
       "<table border=\"1\" class=\"dataframe\">\n",
       "  <thead>\n",
       "    <tr style=\"text-align: right;\">\n",
       "      <th></th>\n",
       "      <th>nuts_id</th>\n",
       "      <th>cntr_code</th>\n",
       "      <th>nuts_name</th>\n",
       "      <th>geometry</th>\n",
       "      <th>population</th>\n",
       "      <th>ind_area_count</th>\n",
       "      <th>ind_area_sum</th>\n",
       "      <th>index_nat</th>\n",
       "    </tr>\n",
       "  </thead>\n",
       "  <tbody>\n",
       "    <tr>\n",
       "      <th>0</th>\n",
       "      <td>DK011</td>\n",
       "      <td>DK</td>\n",
       "      <td>Byen København</td>\n",
       "      <td>MULTIPOLYGON (((12.50479 55.63734, 12.48025 55...</td>\n",
       "      <td>1.199214e+06</td>\n",
       "      <td>58</td>\n",
       "      <td>6.274909e+06</td>\n",
       "      <td>0.580681</td>\n",
       "    </tr>\n",
       "    <tr>\n",
       "      <th>1</th>\n",
       "      <td>DK012</td>\n",
       "      <td>DK</td>\n",
       "      <td>Københavns omegn</td>\n",
       "      <td>MULTIPOLYGON (((12.24627 55.70664, 12.25874 55...</td>\n",
       "      <td>8.048375e+05</td>\n",
       "      <td>86</td>\n",
       "      <td>2.605555e+07</td>\n",
       "      <td>0.749349</td>\n",
       "    </tr>\n",
       "    <tr>\n",
       "      <th>2</th>\n",
       "      <td>DK013</td>\n",
       "      <td>DK</td>\n",
       "      <td>Nordsjælland</td>\n",
       "      <td>MULTIPOLYGON (((12.24627 55.70664, 12.21994 55...</td>\n",
       "      <td>6.529701e+05</td>\n",
       "      <td>135</td>\n",
       "      <td>1.572232e+07</td>\n",
       "      <td>0.665871</td>\n",
       "    </tr>\n",
       "    <tr>\n",
       "      <th>3</th>\n",
       "      <td>DK014</td>\n",
       "      <td>DK</td>\n",
       "      <td>Bornholm</td>\n",
       "      <td>MULTIPOLYGON (((14.88943 55.22813, 14.94373 55...</td>\n",
       "      <td>4.738833e+04</td>\n",
       "      <td>52</td>\n",
       "      <td>2.787603e+06</td>\n",
       "      <td>0.091701</td>\n",
       "    </tr>\n",
       "    <tr>\n",
       "      <th>4</th>\n",
       "      <td>DK021</td>\n",
       "      <td>DK</td>\n",
       "      <td>Østsjælland</td>\n",
       "      <td>MULTIPOLYGON (((12.24627 55.70664, 12.16537 55...</td>\n",
       "      <td>3.613609e+05</td>\n",
       "      <td>75</td>\n",
       "      <td>1.117585e+07</td>\n",
       "      <td>0.392678</td>\n",
       "    </tr>\n",
       "  </tbody>\n",
       "</table>\n",
       "</div>"
      ],
      "text/plain": [
       "  nuts_id cntr_code         nuts_name   \n",
       "0   DK011        DK    Byen København  \\\n",
       "1   DK012        DK  Københavns omegn   \n",
       "2   DK013        DK      Nordsjælland   \n",
       "3   DK014        DK          Bornholm   \n",
       "4   DK021        DK       Østsjælland   \n",
       "\n",
       "                                            geometry    population   \n",
       "0  MULTIPOLYGON (((12.50479 55.63734, 12.48025 55...  1.199214e+06  \\\n",
       "1  MULTIPOLYGON (((12.24627 55.70664, 12.25874 55...  8.048375e+05   \n",
       "2  MULTIPOLYGON (((12.24627 55.70664, 12.21994 55...  6.529701e+05   \n",
       "3  MULTIPOLYGON (((14.88943 55.22813, 14.94373 55...  4.738833e+04   \n",
       "4  MULTIPOLYGON (((12.24627 55.70664, 12.16537 55...  3.613609e+05   \n",
       "\n",
       "   ind_area_count  ind_area_sum  index_nat  \n",
       "0              58  6.274909e+06   0.580681  \n",
       "1              86  2.605555e+07   0.749349  \n",
       "2             135  1.572232e+07   0.665871  \n",
       "3              52  2.787603e+06   0.091701  \n",
       "4              75  1.117585e+07   0.392678  "
      ]
     },
     "execution_count": 9,
     "metadata": {},
     "output_type": "execute_result"
    }
   ],
   "source": [
    "taz_cn = att.attraction_index(scope='DK')\n",
    "taz_cn.head()"
   ]
  },
  {
   "cell_type": "code",
   "execution_count": 10,
   "id": "e59ed684-a781-4c75-9fd7-af011f78eb3e",
   "metadata": {},
   "outputs": [],
   "source": [
    "taz_cn.to_file(path_export + 'taz-tutorial-attindex-dk' + '.gpkg', driver='GPKG')"
   ]
  },
  {
   "cell_type": "markdown",
   "id": "78cd0b44-033b-4f7b-94cb-33dced91f1bd",
   "metadata": {},
   "source": [
    "## Multiple Countries\n",
    "\n",
    "In addition to an index for national transport, an international index can be created where the attraction factors of all taz in the regarded region are created."
   ]
  },
  {
   "cell_type": "markdown",
   "id": "9b6d681b-21c9-41b4-9eb0-642cd3ceec27",
   "metadata": {},
   "source": [
    "International"
   ]
  },
  {
   "cell_type": "code",
   "execution_count": 11,
   "id": "df9a68e3-f614-4249-a71e-0792b29fec24",
   "metadata": {},
   "outputs": [
    {
     "data": {
      "text/html": [
       "<div>\n",
       "<style scoped>\n",
       "    .dataframe tbody tr th:only-of-type {\n",
       "        vertical-align: middle;\n",
       "    }\n",
       "\n",
       "    .dataframe tbody tr th {\n",
       "        vertical-align: top;\n",
       "    }\n",
       "\n",
       "    .dataframe thead th {\n",
       "        text-align: right;\n",
       "    }\n",
       "</style>\n",
       "<table border=\"1\" class=\"dataframe\">\n",
       "  <thead>\n",
       "    <tr style=\"text-align: right;\">\n",
       "      <th></th>\n",
       "      <th>nuts_id</th>\n",
       "      <th>cntr_code</th>\n",
       "      <th>nuts_name</th>\n",
       "      <th>geometry</th>\n",
       "      <th>population</th>\n",
       "      <th>ind_area_count</th>\n",
       "      <th>ind_area_sum</th>\n",
       "      <th>index_int</th>\n",
       "    </tr>\n",
       "  </thead>\n",
       "  <tbody>\n",
       "    <tr>\n",
       "      <th>0</th>\n",
       "      <td>DK011</td>\n",
       "      <td>DK</td>\n",
       "      <td>Byen København</td>\n",
       "      <td>MULTIPOLYGON (((12.50479 55.63734, 12.48025 55...</td>\n",
       "      <td>1.199214e+06</td>\n",
       "      <td>58</td>\n",
       "      <td>6.274909e+06</td>\n",
       "      <td>0.580681</td>\n",
       "    </tr>\n",
       "    <tr>\n",
       "      <th>1</th>\n",
       "      <td>DK012</td>\n",
       "      <td>DK</td>\n",
       "      <td>Københavns omegn</td>\n",
       "      <td>MULTIPOLYGON (((12.24627 55.70664, 12.25874 55...</td>\n",
       "      <td>8.048375e+05</td>\n",
       "      <td>86</td>\n",
       "      <td>2.605555e+07</td>\n",
       "      <td>0.749349</td>\n",
       "    </tr>\n",
       "    <tr>\n",
       "      <th>2</th>\n",
       "      <td>DK013</td>\n",
       "      <td>DK</td>\n",
       "      <td>Nordsjælland</td>\n",
       "      <td>MULTIPOLYGON (((12.24627 55.70664, 12.21994 55...</td>\n",
       "      <td>6.529701e+05</td>\n",
       "      <td>135</td>\n",
       "      <td>1.572232e+07</td>\n",
       "      <td>0.665871</td>\n",
       "    </tr>\n",
       "    <tr>\n",
       "      <th>3</th>\n",
       "      <td>DK014</td>\n",
       "      <td>DK</td>\n",
       "      <td>Bornholm</td>\n",
       "      <td>MULTIPOLYGON (((14.88943 55.22813, 14.94373 55...</td>\n",
       "      <td>4.738833e+04</td>\n",
       "      <td>52</td>\n",
       "      <td>2.787603e+06</td>\n",
       "      <td>0.091701</td>\n",
       "    </tr>\n",
       "    <tr>\n",
       "      <th>4</th>\n",
       "      <td>DK021</td>\n",
       "      <td>DK</td>\n",
       "      <td>Østsjælland</td>\n",
       "      <td>MULTIPOLYGON (((12.24627 55.70664, 12.16537 55...</td>\n",
       "      <td>3.613609e+05</td>\n",
       "      <td>75</td>\n",
       "      <td>1.117585e+07</td>\n",
       "      <td>0.392678</td>\n",
       "    </tr>\n",
       "  </tbody>\n",
       "</table>\n",
       "</div>"
      ],
      "text/plain": [
       "  nuts_id cntr_code         nuts_name   \n",
       "0   DK011        DK    Byen København  \\\n",
       "1   DK012        DK  Københavns omegn   \n",
       "2   DK013        DK      Nordsjælland   \n",
       "3   DK014        DK          Bornholm   \n",
       "4   DK021        DK       Østsjælland   \n",
       "\n",
       "                                            geometry    population   \n",
       "0  MULTIPOLYGON (((12.50479 55.63734, 12.48025 55...  1.199214e+06  \\\n",
       "1  MULTIPOLYGON (((12.24627 55.70664, 12.25874 55...  8.048375e+05   \n",
       "2  MULTIPOLYGON (((12.24627 55.70664, 12.21994 55...  6.529701e+05   \n",
       "3  MULTIPOLYGON (((14.88943 55.22813, 14.94373 55...  4.738833e+04   \n",
       "4  MULTIPOLYGON (((12.24627 55.70664, 12.16537 55...  3.613609e+05   \n",
       "\n",
       "   ind_area_count  ind_area_sum  index_int  \n",
       "0              58  6.274909e+06   0.580681  \n",
       "1              86  2.605555e+07   0.749349  \n",
       "2             135  1.572232e+07   0.665871  \n",
       "3              52  2.787603e+06   0.091701  \n",
       "4              75  1.117585e+07   0.392678  "
      ]
     },
     "execution_count": 11,
     "metadata": {},
     "output_type": "execute_result"
    }
   ],
   "source": [
    "# get international index\n",
    "taz_int = gpd.GeoDataFrame.from_file(path_export + '_import/taz-tutorial-int.gpkg')\n",
    "att_int = AttractionFactors.AttractionIndex(taz_int)\n",
    "taz_int = att.attraction_index()\n",
    "taz_int.head()"
   ]
  },
  {
   "cell_type": "code",
   "execution_count": 12,
   "id": "75dc9d80-e158-40be-902b-b7879053194b",
   "metadata": {},
   "outputs": [],
   "source": [
    "taz_int.to_file(path_export + 'taz-tutorial-attindex-int' + '.gpkg', driver='GPKG')"
   ]
  },
  {
   "cell_type": "code",
   "execution_count": null,
   "id": "ee3cbd67-7529-4cf5-88b2-930cfea2b2a2",
   "metadata": {},
   "outputs": [],
   "source": []
  }
 ],
 "metadata": {
  "kernelspec": {
   "display_name": "Python 3 (ipykernel)",
   "language": "python",
   "name": "python3"
  },
  "language_info": {
   "codemirror_mode": {
    "name": "ipython",
    "version": 3
   },
   "file_extension": ".py",
   "mimetype": "text/x-python",
   "name": "python",
   "nbconvert_exporter": "python",
   "pygments_lexer": "ipython3",
   "version": "3.11.2"
  }
 },
 "nbformat": 4,
 "nbformat_minor": 5
}
